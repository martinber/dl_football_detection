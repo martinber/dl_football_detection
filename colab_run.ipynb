{
  "nbformat": 4,
  "nbformat_minor": 0,
  "metadata": {
    "colab": {
      "name": "colab_run.ipynb",
      "provenance": [],
      "collapsed_sections": []
    },
    "kernelspec": {
      "name": "python3",
      "display_name": "Python 3"
    },
    "language_info": {
      "name": "python"
    },
    "accelerator": "GPU"
  },
  "cells": [
    {
      "cell_type": "code",
      "metadata": {
        "id": "geOeOPDUwZxy"
      },
      "source": [
        "!wget http://images.cocodataset.org/zips/val2017.zip"
      ],
      "execution_count": null,
      "outputs": []
    },
    {
      "cell_type": "code",
      "metadata": {
        "id": "eu59yCeIxfLm"
      },
      "source": [
        "!unzip ./val2017.zip"
      ],
      "execution_count": null,
      "outputs": []
    },
    {
      "cell_type": "code",
      "metadata": {
        "id": "GnGg8Ablxiiw"
      },
      "source": [
        "!git clone https://github.com/martinber/dl_football_detection.git"
      ],
      "execution_count": null,
      "outputs": []
    },
    {
      "cell_type": "code",
      "metadata": {
        "id": "loKaj9t9xtSs"
      },
      "source": [
        "%cd dl_football_detection"
      ],
      "execution_count": null,
      "outputs": []
    },
    {
      "cell_type": "code",
      "metadata": {
        "id": "XGWsHsTa7nFK"
      },
      "source": [
        "import train\n",
        "import tensorflow as tf\n",
        "from pathlib import Path\n",
        "\n",
        "CASES_PATH = Path(\"./cases/saved/\")\n",
        "VAL2017_FOLDER_PATH = Path(\"../val2017\")\n",
        "\n",
        "print(\"Num GPUs Available: \", len(tf.config.list_physical_devices('GPU')))\n",
        "device_name = tf.test.gpu_device_name()\n",
        "if device_name != '/device:GPU:0':\n",
        "    print(\n",
        "        '\\n\\nThis error most likely means that this notebook is not '\n",
        "        'configured to use a GPU.  Change this in Notebook Settings via the '\n",
        "        'command palette (cmd/ctrl-shift-P) or the Edit menu.\\n\\n')\n",
        "    raise SystemError('GPU device not found')\n",
        "else:\n",
        "    print(\"GPU detected\")\n",
        "\n",
        "print(\"Tensorflow version:\", tf.__version__)"
      ],
      "execution_count": null,
      "outputs": []
    },
    {
      "cell_type": "code",
      "metadata": {
        "id": "7Pqq12f68PiQ"
      },
      "source": [
        "metrics = [\n",
        "    tf.keras.metrics.BinaryCrossentropy(from_logits=False),\n",
        "    tf.keras.metrics.BinaryAccuracy(threshold=0.5),\n",
        "    tf.keras.metrics.Precision(thresholds=0.5),\n",
        "    tf.keras.metrics.Recall(thresholds=0.5),\n",
        "    tf.keras.metrics.MeanAbsoluteError(),\n",
        "    tf.keras.metrics.MeanSquaredError(),\n",
        "]\n",
        "\n",
        "for n_filters in [4, 8, 16]:\n",
        "\n",
        "    model = train.u_net(input_size=(None,None,3), n_filters=n_filters, n_classes=1)\n",
        "\n",
        "    case = train.Case(\n",
        "          model=model,\n",
        "          batch_size=16,\n",
        "          num_batches=100,\n",
        "          num_epochs=100,\n",
        "          optimizer=tf.keras.optimizers.Adam(lr=1e-3),\n",
        "          loss=tf.keras.losses.BinaryCrossentropy(from_logits=False),\n",
        "          metrics=metrics,\n",
        "          gen_params={\n",
        "              # Dataset: Background and ball images\n",
        "              \"folder_path\": str(VAL2017_FOLDER_PATH),\n",
        "              \"obj_path\": str(Path(\"./res/ball_2_transparent.png\")),\n",
        "\n",
        "              # Shape of object in ground truth, \"rect\" or \"ellipse\"\n",
        "              \"ground_truth_shape\": \"ellipse\",\n",
        "\n",
        "              # Needed divisibility of the width and height of images. Depends\n",
        "              # in amount of downsampling\n",
        "              \"divisibility\": 32,\n",
        "\n",
        "              # Size of images, make divisible by previous parameter or\n",
        "              # otherwise padding will be added.\n",
        "              # Used in training dataset but also in validation dataset during\n",
        "              # training, but not during evaluation.\n",
        "              \"train_val_img_size\": (128, 128),\n",
        "\n",
        "              # Modifications to object\n",
        "              \"ball_rotate\": True,\n",
        "              \"ball_size_range\": (20, 70),\n",
        "              \"ball_brightness\": (0.4, 1),\n",
        "          },\n",
        "          notes=\"\",\n",
        "      )\n",
        "\n",
        "\n",
        "    with tf.device('/device:GPU:0'):\n",
        "        train.train_case(case, CASES_PATH)\n"
      ],
      "execution_count": null,
      "outputs": []
    },
    {
      "cell_type": "code",
      "metadata": {
        "id": "how-2Gik9JiB"
      },
      "source": [
        "!zip -r cases.zip ./cases/\n",
        "# After this you can download the cases.zip with the models, and then evaluate\n",
        "# them with `./main.py eval` in your PC"
      ],
      "execution_count": null,
      "outputs": []
    }
  ]
}